{
 "cells": [
  {
   "cell_type": "code",
   "execution_count": 48,
   "metadata": {},
   "outputs": [],
   "source": [
    "import numpy as np\n",
    "import pandas as pd\n",
    "data = np.array(pd.read_csv(\"../../res/input_5.txt\",header=None))"
   ]
  },
  {
   "cell_type": "code",
   "execution_count": 49,
   "metadata": {},
   "outputs": [],
   "source": [
    "def seat_id_calculator(line):\n",
    "    row = line[0:7]\n",
    "    column = line[7:]\n",
    "    rownumber = np.sum([int(row[i] == 'B') * 2**(6-i) for i in range(7)])\n",
    "    colnumber = np.sum([int(column[i] == 'R') * 2**(2-i) for i in range(3)])\n",
    "    return rownumber*8+colnumber\n"
   ]
  },
  {
   "cell_type": "code",
   "execution_count": 50,
   "metadata": {},
   "outputs": [
    {
     "name": "stdout",
     "output_type": "stream",
     "text": [
      "991\n"
     ]
    }
   ],
   "source": [
    "maxid = 0\n",
    "for ticket in data:\n",
    "    ticketID= seat_id_calculator(ticket[0])\n",
    "    if(maxid<ticketID):\n",
    "        maxid = ticketID\n",
    "        \n",
    "print(maxid)"
   ]
  },
  {
   "cell_type": "code",
   "execution_count": 63,
   "metadata": {},
   "outputs": [
    {
     "name": "stdout",
     "output_type": "stream",
     "text": [
      "534\n"
     ]
    }
   ],
   "source": [
    "idlist = [i for i in range(992)]\n",
    "for ticket in data:\n",
    "    ticketID= seat_id_calculator(ticket[0])\n",
    "    idlist.remove(ticketID)\n",
    "for item in idlist:\n",
    "    if not(item+1 in idlist or item-1 in idlist):\n",
    "        print(item)"
   ]
  },
  {
   "cell_type": "code",
   "execution_count": null,
   "metadata": {},
   "outputs": [],
   "source": []
  },
  {
   "cell_type": "code",
   "execution_count": null,
   "metadata": {},
   "outputs": [],
   "source": []
  },
  {
   "cell_type": "code",
   "execution_count": null,
   "metadata": {},
   "outputs": [],
   "source": []
  }
 ],
 "metadata": {
  "kernelspec": {
   "display_name": "Python 3",
   "language": "python",
   "name": "python3"
  },
  "language_info": {
   "codemirror_mode": {
    "name": "ipython",
    "version": 3
   },
   "file_extension": ".py",
   "mimetype": "text/x-python",
   "name": "python",
   "nbconvert_exporter": "python",
   "pygments_lexer": "ipython3",
   "version": "3.8.5"
  }
 },
 "nbformat": 4,
 "nbformat_minor": 4
}
