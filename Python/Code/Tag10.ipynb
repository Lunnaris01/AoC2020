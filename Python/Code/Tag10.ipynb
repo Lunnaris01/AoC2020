{
 "cells": [
  {
   "cell_type": "code",
   "execution_count": 148,
   "metadata": {},
   "outputs": [],
   "source": [
    "import numpy as np\n",
    "import pandas as pd\n",
    "rawdata = sorted(np.array(pd.read_csv(\"../../res/input_10.txt\",header=None)).flatten())\n",
    "data = list(rawdata)"
   ]
  },
  {
   "cell_type": "code",
   "execution_count": 149,
   "metadata": {},
   "outputs": [
    {
     "name": "stdout",
     "output_type": "stream",
     "text": [
      "94 [1, 2, 5, 6, 7, 8, 9, 12, 13, 14, 15, 18, 21, 24, 25, 26, 27, 30, 31, 32, 35, 38, 39, 40, 41, 44, 47, 50, 51, 52, 53, 54, 57, 58, 59, 60, 61, 64, 65, 66, 67, 70, 73, 76, 77, 78, 79, 80, 83, 86, 89, 90, 91, 92, 95, 98, 101, 104, 105, 106, 107, 108, 111, 112, 113, 114, 115, 118, 119, 120, 121, 122, 125, 126, 129, 132, 133, 136, 137, 138, 139, 140, 143, 144, 147, 148, 149, 150, 151, 154, 155, 156, 157, 158]\n"
     ]
    }
   ],
   "source": [
    "n = len(data)\n",
    "print(n,data)"
   ]
  },
  {
   "cell_type": "code",
   "execution_count": 150,
   "metadata": {},
   "outputs": [],
   "source": [
    "count_1 = 1\n",
    "count_3 = 1\n",
    "for it in range(n-1):\n",
    "    if data[it+1]-data[it]==1:\n",
    "        count_1+=1\n",
    "    if data[it+1]-data[it]==3:\n",
    "        count_3+=1\n"
   ]
  },
  {
   "cell_type": "code",
   "execution_count": 151,
   "metadata": {},
   "outputs": [
    {
     "name": "stdout",
     "output_type": "stream",
     "text": [
      "2046\n"
     ]
    }
   ],
   "source": [
    "print(count_1*(count_3))"
   ]
  },
  {
   "cell_type": "code",
   "execution_count": 152,
   "metadata": {},
   "outputs": [
    {
     "name": "stdout",
     "output_type": "stream",
     "text": [
      "96 [0, 1, 2, 5, 6, 7, 8, 9, 12, 13, 14, 15, 18, 21, 24, 25, 26, 27, 30, 31, 32, 35, 38, 39, 40, 41, 44, 47, 50, 51, 52, 53, 54, 57, 58, 59, 60, 61, 64, 65, 66, 67, 70, 73, 76, 77, 78, 79, 80, 83, 86, 89, 90, 91, 92, 95, 98, 101, 104, 105, 106, 107, 108, 111, 112, 113, 114, 115, 118, 119, 120, 121, 122, 125, 126, 129, 132, 133, 136, 137, 138, 139, 140, 143, 144, 147, 148, 149, 150, 151, 154, 155, 156, 157, 158, 161]\n"
     ]
    }
   ],
   "source": [
    "data = [0] + list(rawdata) + [161]\n",
    "n = len(data)\n",
    "print(n,data)"
   ]
  },
  {
   "cell_type": "code",
   "execution_count": 153,
   "metadata": {},
   "outputs": [
    {
     "name": "stdout",
     "output_type": "stream",
     "text": [
      "[0, 1, 2]\n",
      "[5, 6, 7, 8, 9]\n",
      "[12, 13, 14, 15]\n",
      "[24, 25, 26, 27]\n",
      "[30, 31, 32]\n",
      "[38, 39, 40, 41]\n",
      "[50, 51, 52, 53, 54]\n",
      "[57, 58, 59, 60, 61]\n",
      "[64, 65, 66, 67]\n",
      "[76, 77, 78, 79, 80]\n",
      "[89, 90, 91, 92]\n",
      "[104, 105, 106, 107, 108]\n",
      "[111, 112, 113, 114, 115]\n",
      "[118, 119, 120, 121, 122]\n",
      "[136, 137, 138, 139, 140]\n",
      "[147, 148, 149, 150, 151]\n",
      "[154, 155, 156, 157, 158]\n"
     ]
    }
   ],
   "source": [
    "combinatoriklist = []\n",
    "it=0\n",
    "tmp=1\n",
    "while it < (n-1):\n",
    "    if(tmp>=3):\n",
    "        combinatoriklist.append(tmp)\n",
    "        print(data[it-tmp:it])\n",
    "    tmp=1\n",
    "    for i in range(it,n-1):\n",
    "        if(data[i+1]-data[i] == 1):\n",
    "            tmp+=1\n",
    "            it+=1\n",
    "        else:\n",
    "            it+=1\n",
    "            break\n",
    "if(tmp>=3):\n",
    "    combinatoriklist.append(tmp)\n",
    "    print(data[it-tmp:it])\n",
    "    "
   ]
  },
  {
   "cell_type": "code",
   "execution_count": 154,
   "metadata": {},
   "outputs": [
    {
     "name": "stdout",
     "output_type": "stream",
     "text": [
      "[3, 5, 4, 4, 3, 4, 5, 5, 4, 5, 4, 5, 5, 5, 5, 5, 5]\n"
     ]
    }
   ],
   "source": [
    "print(combinatoriklist)"
   ]
  },
  {
   "cell_type": "code",
   "execution_count": 155,
   "metadata": {},
   "outputs": [
    {
     "name": "stdout",
     "output_type": "stream",
     "text": [
      "1157018619904\n"
     ]
    }
   ],
   "source": [
    "arrangements = 1\n",
    "for comb in combinatoriklist[::-1]:\n",
    "    if(comb == 3):\n",
    "        arrangements*=2\n",
    "    if(comb ==4 ):\n",
    "        arrangements*=4\n",
    "    if(comb == 5):\n",
    "        arrangements*=7\n",
    "print(arrangements)"
   ]
  },
  {
   "cell_type": "code",
   "execution_count": null,
   "metadata": {},
   "outputs": [],
   "source": []
  },
  {
   "cell_type": "code",
   "execution_count": null,
   "metadata": {},
   "outputs": [],
   "source": []
  },
  {
   "cell_type": "code",
   "execution_count": null,
   "metadata": {},
   "outputs": [],
   "source": []
  }
 ],
 "metadata": {
  "kernelspec": {
   "display_name": "Python 3",
   "language": "python",
   "name": "python3"
  },
  "language_info": {
   "codemirror_mode": {
    "name": "ipython",
    "version": 3
   },
   "file_extension": ".py",
   "mimetype": "text/x-python",
   "name": "python",
   "nbconvert_exporter": "python",
   "pygments_lexer": "ipython3",
   "version": "3.8.5"
  }
 },
 "nbformat": 4,
 "nbformat_minor": 4
}
