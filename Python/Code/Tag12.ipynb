{
 "cells": [
  {
   "cell_type": "code",
   "execution_count": 7,
   "metadata": {},
   "outputs": [
    {
     "name": "stdout",
     "output_type": "stream",
     "text": [
      "['F92' 'R180' 'S1' 'F64' 'R90' 'S1' 'E1' 'F11' 'N4' 'R180']\n"
     ]
    }
   ],
   "source": [
    "import numpy as np\n",
    "import pandas as pd\n",
    "data = np.array(pd.read_csv(\"../../res/input_12.txt\",header=None)).flatten()\n",
    "print(data[0:10])"
   ]
  },
  {
   "cell_type": "code",
   "execution_count": 32,
   "metadata": {},
   "outputs": [],
   "source": [
    "class Ferry(object):\n",
    "    \n",
    "    def __init__(self):\n",
    "        self.pos = (0,0)\n",
    "        self.direction = 1 #'1 # 0 - N, 1 - E, 2 - S, 3 - W'\n",
    "        self.dirdict = {0:'N',1:'E',2:'S',3:'W'}\n",
    "    def navigate(self,command):\n",
    "        if(command[0] in ['L','R']):\n",
    "            self.turn(command)\n",
    "        else:\n",
    "            self.move(command)\n",
    "            \n",
    "    def turn(self,command):\n",
    "        if(command[0] == 'L'):\n",
    "            self.direction = (self.direction - int(command[1:])/90)%4\n",
    "            return\n",
    "        self.direction = (self.direction + int(command[1:])/90)%4\n",
    "        \n",
    "    def move(self,command):\n",
    "        if(command[0] == 'N'):\n",
    "            self.pos = (self.pos[0],self.pos[1]+int(command[1:]))\n",
    "        if(command[0] == 'S'):\n",
    "            self.pos = (self.pos[0],self.pos[1]-int(command[1:]))\n",
    "        if(command[0] == 'W'):\n",
    "            self.pos = (self.pos[0]-int(command[1:]),self.pos[1])\n",
    "        if(command[0] == 'E'):\n",
    "            self.pos = (self.pos[0]+int(command[1:]),self.pos[1])\n",
    "        if(command[0] == 'F'):\n",
    "            self.move(self.dirdict[self.direction]+command[1:])\n",
    "            \n",
    "        \n",
    "        "
   ]
  },
  {
   "cell_type": "code",
   "execution_count": 33,
   "metadata": {},
   "outputs": [],
   "source": [
    "f = Ferry()"
   ]
  },
  {
   "cell_type": "code",
   "execution_count": 35,
   "metadata": {},
   "outputs": [],
   "source": [
    "for cmd in data:\n",
    "    f.navigate(cmd)"
   ]
  },
  {
   "cell_type": "code",
   "execution_count": 37,
   "metadata": {},
   "outputs": [
    {
     "name": "stdout",
     "output_type": "stream",
     "text": [
      "(658, -824) 1482\n"
     ]
    }
   ],
   "source": [
    "print(f.pos,np.sum(np.abs(f.pos)))"
   ]
  },
  {
   "cell_type": "code",
   "execution_count": 99,
   "metadata": {},
   "outputs": [],
   "source": [
    "class Funny_Ferry(object):\n",
    "    \n",
    "    def __init__(self):\n",
    "        self.pos = np.array([0,0])\n",
    "        self.waypoint = np.array([10,1])\n",
    "        \n",
    "    def navigate(self,command):\n",
    "        if(command[0] in ['L','R']):\n",
    "            self.turnWaypoint(command)\n",
    "        elif(command[0] == 'F'):\n",
    "            self.moveFerry(command)\n",
    "        else:\n",
    "            self.moveWaypoint(command)\n",
    "            \n",
    "    def turnWaypoint(self,command):\n",
    "        degree = int(command[1:])\n",
    "        if(degree%360 == 0):\n",
    "            return\n",
    "        degree = degree%360\n",
    "        if(degree%180 == 0):\n",
    "            self.waypoint = (-self.waypoint[0],-self.waypoint[1]\n",
    "            return\n",
    "        if((degree==90 and command[0]) == 'R' or (degree ==270 and command[0]=='L')):\n",
    "            self.waypoint = np.array(([0,1],[-1,0]))@self.waypoint\n",
    "            \n",
    "        if((degree==90 and command[0]) == 'L' or (degree ==270 and command[0]=='R')):\n",
    "            self.waypoint = np.array(([0,-1],[1,0]))@self.waypoint\n",
    "            \n",
    "    def moveFerry(self,command):\n",
    "        self.pos = self.pos+self.waypoint*int(command[1:])\n",
    "\n",
    "        \n",
    "    def moveWaypoint(self,command):\n",
    "        if(command[0] == 'N'):\n",
    "            self.waypoint+=np.array([0,int(command[1:])])\n",
    "        if(command[0] == 'S'):\n",
    "            self.waypoint+=np.array([0,-int(command[1:])])\n",
    "        if(command[0] == 'W'):\n",
    "            self.waypoint+=np.array([-int(command[1:]),0])\n",
    "        if(command[0] == 'E'):\n",
    "            self.waypoint+=np.array([int(command[1:]),0])\n",
    "\n"
   ]
  },
  {
   "cell_type": "code",
   "execution_count": 103,
   "metadata": {},
   "outputs": [],
   "source": [
    "f = Funny_Ferry()"
   ]
  },
  {
   "cell_type": "code",
   "execution_count": 104,
   "metadata": {},
   "outputs": [
    {
     "name": "stdout",
     "output_type": "stream",
     "text": [
      "[0 0] [10  1]\n",
      "[0 0] [10  1]\n",
      "[920  92] [10  1]\n",
      "[920  92] (-10, -1)\n",
      "[920  92] [-10  -2]\n",
      "[920  92] [-10  -2]\n",
      "[280 -36] [-10  -2]\n",
      "[280 -36] [-2 10]\n",
      "[280 -36] [-2  9]\n",
      "[280 -36] [-1  9]\n",
      "[280 -36] [-1  9]\n",
      "[269  63] [-1  9]\n",
      "[269  63] [-1 13]\n",
      "[269  63] (1, -13)\n",
      "[269  63] [  1 -16]\n",
      "[269  63] [  4 -16]\n",
      "[269  63] [  4 -16]\n",
      "[ 489 -817] [  4 -16]\n",
      "[ 489 -817] [-16  -4]\n",
      "[ 489 -817] [-16  -3]\n",
      "[ 489 -817] [-12  -3]\n",
      "[ 489 -817] (12, 3)\n",
      "[ 489 -817] (12, 3)\n"
     ]
    },
    {
     "ename": "ValueError",
     "evalue": "operands could not be broadcast together with shapes (2,) (18,) ",
     "output_type": "error",
     "traceback": [
      "\u001b[1;31m---------------------------------------------------------------------------\u001b[0m",
      "\u001b[1;31mValueError\u001b[0m                                Traceback (most recent call last)",
      "\u001b[1;32m<ipython-input-104-62456aaeb141>\u001b[0m in \u001b[0;36m<module>\u001b[1;34m\u001b[0m\n\u001b[0;32m      1\u001b[0m \u001b[1;32mfor\u001b[0m \u001b[0mcmd\u001b[0m \u001b[1;32min\u001b[0m \u001b[0mdata\u001b[0m\u001b[1;33m:\u001b[0m\u001b[1;33m\u001b[0m\u001b[1;33m\u001b[0m\u001b[0m\n\u001b[0;32m      2\u001b[0m     \u001b[0mprint\u001b[0m\u001b[1;33m(\u001b[0m\u001b[0mf\u001b[0m\u001b[1;33m.\u001b[0m\u001b[0mpos\u001b[0m\u001b[1;33m,\u001b[0m\u001b[0mf\u001b[0m\u001b[1;33m.\u001b[0m\u001b[0mwaypoint\u001b[0m\u001b[1;33m)\u001b[0m\u001b[1;33m\u001b[0m\u001b[1;33m\u001b[0m\u001b[0m\n\u001b[1;32m----> 3\u001b[1;33m     \u001b[0mf\u001b[0m\u001b[1;33m.\u001b[0m\u001b[0mnavigate\u001b[0m\u001b[1;33m(\u001b[0m\u001b[0mcmd\u001b[0m\u001b[1;33m)\u001b[0m\u001b[1;33m\u001b[0m\u001b[1;33m\u001b[0m\u001b[0m\n\u001b[0m",
      "\u001b[1;32m<ipython-input-99-764deeaf39f2>\u001b[0m in \u001b[0;36mnavigate\u001b[1;34m(self, command)\u001b[0m\n\u001b[0;32m      9\u001b[0m             \u001b[0mself\u001b[0m\u001b[1;33m.\u001b[0m\u001b[0mturnWaypoint\u001b[0m\u001b[1;33m(\u001b[0m\u001b[0mcommand\u001b[0m\u001b[1;33m)\u001b[0m\u001b[1;33m\u001b[0m\u001b[1;33m\u001b[0m\u001b[0m\n\u001b[0;32m     10\u001b[0m         \u001b[1;32melif\u001b[0m\u001b[1;33m(\u001b[0m\u001b[0mcommand\u001b[0m\u001b[1;33m[\u001b[0m\u001b[1;36m0\u001b[0m\u001b[1;33m]\u001b[0m \u001b[1;33m==\u001b[0m \u001b[1;34m'F'\u001b[0m\u001b[1;33m)\u001b[0m\u001b[1;33m:\u001b[0m\u001b[1;33m\u001b[0m\u001b[1;33m\u001b[0m\u001b[0m\n\u001b[1;32m---> 11\u001b[1;33m             \u001b[0mself\u001b[0m\u001b[1;33m.\u001b[0m\u001b[0mmoveFerry\u001b[0m\u001b[1;33m(\u001b[0m\u001b[0mcommand\u001b[0m\u001b[1;33m)\u001b[0m\u001b[1;33m\u001b[0m\u001b[1;33m\u001b[0m\u001b[0m\n\u001b[0m\u001b[0;32m     12\u001b[0m         \u001b[1;32melse\u001b[0m\u001b[1;33m:\u001b[0m\u001b[1;33m\u001b[0m\u001b[1;33m\u001b[0m\u001b[0m\n\u001b[0;32m     13\u001b[0m             \u001b[0mself\u001b[0m\u001b[1;33m.\u001b[0m\u001b[0mmoveWaypoint\u001b[0m\u001b[1;33m(\u001b[0m\u001b[0mcommand\u001b[0m\u001b[1;33m)\u001b[0m\u001b[1;33m\u001b[0m\u001b[1;33m\u001b[0m\u001b[0m\n",
      "\u001b[1;32m<ipython-input-99-764deeaf39f2>\u001b[0m in \u001b[0;36mmoveFerry\u001b[1;34m(self, command)\u001b[0m\n\u001b[0;32m     29\u001b[0m     \u001b[1;32mdef\u001b[0m \u001b[0mmoveFerry\u001b[0m\u001b[1;33m(\u001b[0m\u001b[0mself\u001b[0m\u001b[1;33m,\u001b[0m\u001b[0mcommand\u001b[0m\u001b[1;33m)\u001b[0m\u001b[1;33m:\u001b[0m\u001b[1;33m\u001b[0m\u001b[1;33m\u001b[0m\u001b[0m\n\u001b[0;32m     30\u001b[0m         \u001b[0mprint\u001b[0m\u001b[1;33m(\u001b[0m\u001b[0mself\u001b[0m\u001b[1;33m.\u001b[0m\u001b[0mpos\u001b[0m\u001b[1;33m,\u001b[0m\u001b[0mself\u001b[0m\u001b[1;33m.\u001b[0m\u001b[0mwaypoint\u001b[0m\u001b[1;33m)\u001b[0m\u001b[1;33m\u001b[0m\u001b[1;33m\u001b[0m\u001b[0m\n\u001b[1;32m---> 31\u001b[1;33m         \u001b[0mself\u001b[0m\u001b[1;33m.\u001b[0m\u001b[0mpos\u001b[0m \u001b[1;33m=\u001b[0m \u001b[0mself\u001b[0m\u001b[1;33m.\u001b[0m\u001b[0mpos\u001b[0m\u001b[1;33m+\u001b[0m\u001b[0mself\u001b[0m\u001b[1;33m.\u001b[0m\u001b[0mwaypoint\u001b[0m\u001b[1;33m*\u001b[0m\u001b[0mint\u001b[0m\u001b[1;33m(\u001b[0m\u001b[0mcommand\u001b[0m\u001b[1;33m[\u001b[0m\u001b[1;36m1\u001b[0m\u001b[1;33m:\u001b[0m\u001b[1;33m]\u001b[0m\u001b[1;33m)\u001b[0m\u001b[1;33m\u001b[0m\u001b[1;33m\u001b[0m\u001b[0m\n\u001b[0m\u001b[0;32m     32\u001b[0m \u001b[1;33m\u001b[0m\u001b[0m\n\u001b[0;32m     33\u001b[0m \u001b[1;33m\u001b[0m\u001b[0m\n",
      "\u001b[1;31mValueError\u001b[0m: operands could not be broadcast together with shapes (2,) (18,) "
     ]
    }
   ],
   "source": [
    "for cmd in data:\n",
    "    print(f.pos,f.waypoint)\n",
    "    f.navigate(cmd)"
   ]
  },
  {
   "cell_type": "code",
   "execution_count": null,
   "metadata": {},
   "outputs": [],
   "source": []
  }
 ],
 "metadata": {
  "kernelspec": {
   "display_name": "Python 3",
   "language": "python",
   "name": "python3"
  },
  "language_info": {
   "codemirror_mode": {
    "name": "ipython",
    "version": 3
   },
   "file_extension": ".py",
   "mimetype": "text/x-python",
   "name": "python",
   "nbconvert_exporter": "python",
   "pygments_lexer": "ipython3",
   "version": "3.8.5"
  }
 },
 "nbformat": 4,
 "nbformat_minor": 4
}
