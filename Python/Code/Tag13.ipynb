{
 "cells": [
  {
   "cell_type": "code",
   "execution_count": 156,
   "metadata": {},
   "outputs": [],
   "source": [
    "import numpy as np\n",
    "import pandas as pd\n",
    "data = np.array(pd.read_csv(\"../../res/input_13.txt\",header=None,delimiter=\"\\n\"))"
   ]
  },
  {
   "cell_type": "code",
   "execution_count": 157,
   "metadata": {},
   "outputs": [
    {
     "name": "stdout",
     "output_type": "stream",
     "text": [
      "1009310 ['13', '17', '19', '23', '29', '37', '41', '599', '761']\n",
      "['19', 'x', 'x', 'x', 'x', 'x', 'x', 'x', 'x', 'x', 'x', 'x', 'x', '37', 'x', 'x', 'x', 'x', 'x', '599', 'x', '29', 'x', 'x', 'x', 'x', 'x', 'x', 'x', 'x', 'x', 'x', 'x', 'x', 'x', 'x', '17', 'x', 'x', 'x', 'x', 'x', '23', 'x', 'x', 'x', 'x', 'x', 'x', 'x', '761', 'x', 'x', 'x', 'x', 'x', 'x', 'x', 'x', 'x', '41', 'x', 'x', '13']\n"
     ]
    }
   ],
   "source": [
    "startingtime = int(data[0][0])\n",
    "lines = data[1][0].split(\",\")\n",
    "ids = sorted([val for val in lines if val != 'x'])\n",
    "print(startingtime,ids)\n",
    "print(lines)"
   ]
  },
  {
   "cell_type": "code",
   "execution_count": 158,
   "metadata": {},
   "outputs": [],
   "source": [
    "minwait = int(max(ids))\n",
    "minid = 0\n",
    "for bus in ids:\n",
    "    bus = int(bus)\n",
    "    if(minwait > (bus-startingtime)%bus):\n",
    "        minid = bus\n",
    "        minwait = (bus-startingtime)%bus"
   ]
  },
  {
   "cell_type": "code",
   "execution_count": 159,
   "metadata": {},
   "outputs": [
    {
     "name": "stdout",
     "output_type": "stream",
     "text": [
      "5 599 2995\n"
     ]
    }
   ],
   "source": [
    "print(minwait,minid,minwait*minid)"
   ]
  },
  {
   "cell_type": "code",
   "execution_count": 161,
   "metadata": {},
   "outputs": [
    {
     "name": "stdout",
     "output_type": "stream",
     "text": [
      "[0, 13, 19, 21, 36, 42, 50, 60, 63]\n",
      "[19, 24, 580, 8, 15, 4, 711, 22, 2] [19, 37, 599, 29, 17, 23, 761, 41, 13]\n"
     ]
    }
   ],
   "source": [
    "ids = [val for val in lines if val != 'x']\n",
    "ids = [int(y) for y in ids]\n",
    "\n",
    "\n",
    "offsets = []\n",
    "for entry in range(len(lines)):\n",
    "    if(lines[entry]!='x'):\n",
    "        offsets.append(entry)\n",
    "        \n",
    "print(offsets)\n",
    "offsets = [y-x%y for x,y in zip(offsets,ids)] # if x+19 %599 = 0 <=> x%599 = 580, only x on left side of equations.\n",
    "print(offsets,ids)\n",
    "\n",
    "#Chinese Reminder Theorem\n",
    "big_N = np.prod(ids,dtype=np.int64)\n",
    "N_i = [int(big_N/x) for x in ids]\n",
    "\n",
    "def csearch(a,b,N):\n",
    "    for k in range(0,N):\n",
    "        if(a*k %N == b):\n",
    "            return k\n",
    "        \n",
    "def get_x_i(N_i,mod):\n",
    "    x_i = N_i\n",
    "    return csearch(x_i,1,mod)\n"
   ]
  },
  {
   "cell_type": "code",
   "execution_count": 162,
   "metadata": {},
   "outputs": [],
   "source": [
    "x_i =[]\n",
    "for i in range(len(N_i)):\n",
    "    x_i.append(get_x_i(N_i[i],ids[i]))"
   ]
  },
  {
   "cell_type": "code",
   "execution_count": 163,
   "metadata": {},
   "outputs": [],
   "source": [
    "result = np.sum([x*y*z for x,y,z in zip(x_i,N_i,offsets)])%big_N"
   ]
  },
  {
   "cell_type": "code",
   "execution_count": 164,
   "metadata": {},
   "outputs": [
    {
     "name": "stdout",
     "output_type": "stream",
     "text": [
      "1012171816131114\n"
     ]
    }
   ],
   "source": [
    "print(result)"
   ]
  },
  {
   "cell_type": "code",
   "execution_count": null,
   "metadata": {},
   "outputs": [],
   "source": []
  }
 ],
 "metadata": {
  "kernelspec": {
   "display_name": "Python 3",
   "language": "python",
   "name": "python3"
  },
  "language_info": {
   "codemirror_mode": {
    "name": "ipython",
    "version": 3
   },
   "file_extension": ".py",
   "mimetype": "text/x-python",
   "name": "python",
   "nbconvert_exporter": "python",
   "pygments_lexer": "ipython3",
   "version": "3.8.5"
  }
 },
 "nbformat": 4,
 "nbformat_minor": 4
}
