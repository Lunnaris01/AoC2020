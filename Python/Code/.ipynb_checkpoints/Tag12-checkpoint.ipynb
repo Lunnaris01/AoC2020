{
 "cells": [
  {
   "cell_type": "code",
   "execution_count": 7,
   "metadata": {},
   "outputs": [
    {
     "name": "stdout",
     "output_type": "stream",
     "text": [
      "['F92' 'R180' 'S1' 'F64' 'R90' 'S1' 'E1' 'F11' 'N4' 'R180']\n"
     ]
    }
   ],
   "source": [
    "import numpy as np\n",
    "import pandas as pd\n",
    "data = np.array(pd.read_csv(\"../../res/input_12.txt\",header=None)).flatten()\n",
    "print(data[0:10])"
   ]
  },
  {
   "cell_type": "code",
   "execution_count": 8,
   "metadata": {},
   "outputs": [],
   "source": [
    "class ferry(object):\n",
    "    \n",
    "    def __init__(self):\n",
    "        self.pos = (0,0)\n",
    "        self.direction = 'E'\n",
    "        \n",
    "    def navigate(self,command):\n",
    "        if(command[0] in ['L','R']):\n",
    "            turn(command)\n",
    "            \n",
    "    def turn(self,command):\n",
    "        if(command[0] == 'L'):\n",
    "            self.direction = (self.direction - int(command[1:])/90)%4\n",
    "            return\n",
    "        self.direction = (self.direction + int(command[1:])/90)%4\n",
    "        \n",
    "    def move(self,command):\n",
    "        if(command[0] == 'N'):\n",
    "            self.pos = (self.pos[0],self.pos[1]+int(command[1:]))\n",
    "        if(command[0] == 'S'):\n",
    "            self.pos = (self.pos[0],self.pos[1]-int(command[1:]))\n",
    "        if(command[0] == 'W'):\n",
    "            self.pos = (self.pos[0]-int(command[1:]),self.pos[1])\n",
    "        if(command[0] == 'E'):\n",
    "            self.pos = (self.pos[0]+int(command[1:]),self.pos[1])\n",
    "        if(command[0] == 'F'):\n",
    "            \n",
    "        \n",
    "        "
   ]
  },
  {
   "cell_type": "code",
   "execution_count": 10,
   "metadata": {},
   "outputs": [],
   "source": [
    "f = ferry()"
   ]
  },
  {
   "cell_type": "code",
   "execution_count": 11,
   "metadata": {},
   "outputs": [
    {
     "name": "stdout",
     "output_type": "stream",
     "text": [
      "L90\n"
     ]
    }
   ],
   "source": [
    "f.navigate('L90')"
   ]
  },
  {
   "cell_type": "code",
   "execution_count": 12,
   "metadata": {},
   "outputs": [
    {
     "name": "stdout",
     "output_type": "stream",
     "text": [
      "90\n"
     ]
    }
   ],
   "source": [
    "print(int('L90'[1:]))"
   ]
  },
  {
   "cell_type": "code",
   "execution_count": 13,
   "metadata": {},
   "outputs": [
    {
     "data": {
      "text/plain": [
       "3"
      ]
     },
     "execution_count": 13,
     "metadata": {},
     "output_type": "execute_result"
    }
   ],
   "source": []
  },
  {
   "cell_type": "code",
   "execution_count": null,
   "metadata": {},
   "outputs": [],
   "source": []
  }
 ],
 "metadata": {
  "kernelspec": {
   "display_name": "Python 3",
   "language": "python",
   "name": "python3"
  },
  "language_info": {
   "codemirror_mode": {
    "name": "ipython",
    "version": 3
   },
   "file_extension": ".py",
   "mimetype": "text/x-python",
   "name": "python",
   "nbconvert_exporter": "python",
   "pygments_lexer": "ipython3",
   "version": "3.8.5"
  }
 },
 "nbformat": 4,
 "nbformat_minor": 4
}
