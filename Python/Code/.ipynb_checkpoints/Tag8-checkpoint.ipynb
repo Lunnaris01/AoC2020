{
 "cells": [
  {
   "cell_type": "code",
   "execution_count": 57,
   "metadata": {},
   "outputs": [],
   "source": [
    "import numpy as np\n",
    "import pandas as pd\n",
    "data = np.array(pd.read_csv(\"../../res/input_8.txt\",header=None))"
   ]
  },
  {
   "cell_type": "code",
   "execution_count": 58,
   "metadata": {},
   "outputs": [],
   "source": [
    "instructions = []\n",
    "for d in data:\n",
    "    instructions.append(d[0])"
   ]
  },
  {
   "cell_type": "code",
   "execution_count": 73,
   "metadata": {},
   "outputs": [],
   "source": [
    "class Handheld(object):\n",
    "    def __init__(self,bootcode):\n",
    "        self.SP=0\n",
    "        self.ACC=0\n",
    "        self.bootcode = bootcode\n",
    "        self.terminalline = len(self.bootcode)\n",
    "        \n",
    "    def run(self):\n",
    "        if (self.SP == self.terminalline):\n",
    "            print(\"End of programm\")\n",
    "            return 1\n",
    "        cmdline = self.bootcode[self.SP]\n",
    "        cmd, param = cmdline.split(\" \")\n",
    "        if (cmd == \"nop\"):\n",
    "            self.runNOP()\n",
    "        if (cmd == \"acc\"):\n",
    "            self.runACC(param)\n",
    "        if (cmd == \"jmp\"):\n",
    "            self.runJMP(param)\n",
    "        return 0\n",
    "            \n",
    "    def runNOP(self):\n",
    "        self.SP += 1\n",
    "        \n",
    "    def runACC(self,param):\n",
    "        self.SP +=1\n",
    "        if(param[0] == '+'):\n",
    "            self.ACC+=int(param[1:])\n",
    "            return\n",
    "        self.ACC-=int(param[1:])\n",
    "        \n",
    "    def runJMP(self,param):\n",
    "        if(param[0] == '+'):\n",
    "            self.SP+=int(param[1:])\n",
    "            return\n",
    "        self.SP-=int(param[1:])\n"
   ]
  },
  {
   "cell_type": "code",
   "execution_count": 74,
   "metadata": {},
   "outputs": [],
   "source": [
    "handheld = Handheld(instructions)"
   ]
  },
  {
   "cell_type": "code",
   "execution_count": 75,
   "metadata": {},
   "outputs": [],
   "source": [
    "splist = [0]\n",
    "handheld.run()\n",
    "while(handheld.SP not in splist):\n",
    "    splist.append(handheld.SP)\n",
    "    handheld.run()"
   ]
  },
  {
   "cell_type": "code",
   "execution_count": 76,
   "metadata": {},
   "outputs": [
    {
     "name": "stdout",
     "output_type": "stream",
     "text": [
      "1521\n"
     ]
    }
   ],
   "source": [
    "print(handheld.ACC)"
   ]
  },
  {
   "cell_type": "code",
   "execution_count": 97,
   "metadata": {},
   "outputs": [
    {
     "name": "stdout",
     "output_type": "stream",
     "text": [
      "End of programm\n",
      "1016\n"
     ]
    }
   ],
   "source": [
    "for i in range(len(instructions)):\n",
    "    changedinstructions = list(instructions)\n",
    "    if(instructions[i][0:3] == 'jmp'):\n",
    "        changedinstructions[i] = 'nop' +  instructions[i][3:]\n",
    "    if(instructions[i][0:3] == 'nop'):\n",
    "        changedinstructions[i] = 'jmp' +  instructions[i][3:]\n",
    "    gameboy = Handheld(changedinstructions)\n",
    "    splist = [0]\n",
    "    terminated = 0\n",
    "    gameboy.run()\n",
    "    while(gameboy.SP not in splist and terminated == 0):\n",
    "        splist.append(gameboy.SP)\n",
    "        terminated = gameboy.run()\n",
    "    if(terminated):\n",
    "        print(gameboy.ACC)"
   ]
  },
  {
   "cell_type": "code",
   "execution_count": 96,
   "metadata": {},
   "outputs": [
    {
     "name": "stdout",
     "output_type": "stream",
     "text": [
      "End of programm\n",
      "1016\n"
     ]
    }
   ],
   "source": []
  },
  {
   "cell_type": "code",
   "execution_count": null,
   "metadata": {},
   "outputs": [],
   "source": []
  }
 ],
 "metadata": {
  "kernelspec": {
   "display_name": "Python 3",
   "language": "python",
   "name": "python3"
  },
  "language_info": {
   "codemirror_mode": {
    "name": "ipython",
    "version": 3
   },
   "file_extension": ".py",
   "mimetype": "text/x-python",
   "name": "python",
   "nbconvert_exporter": "python",
   "pygments_lexer": "ipython3",
   "version": "3.8.5"
  }
 },
 "nbformat": 4,
 "nbformat_minor": 4
}
