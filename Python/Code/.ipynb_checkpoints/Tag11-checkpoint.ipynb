{
 "cells": [
  {
   "cell_type": "code",
   "execution_count": 385,
   "metadata": {},
   "outputs": [],
   "source": [
    "import numpy as np\n",
    "import pandas as pd\n",
    "data = np.array(pd.read_csv(\"../../res/input_11.txt\",header=None))\n",
    "mask = []\n",
    "raw = []\n",
    "for d in data:\n",
    "    for seat in d[0]:\n",
    "        if(seat=='L'):\n",
    "            mask.append(1)\n",
    "            raw.append(0)\n",
    "        else:\n",
    "            raw.append(0)\n",
    "            mask.append(0)\n",
    "mask = np.reshape(mask,(93,-1))            \n",
    "array = np.reshape(raw,(93,-1))"
   ]
  },
  {
   "cell_type": "code",
   "execution_count": 386,
   "metadata": {},
   "outputs": [
    {
     "name": "stdout",
     "output_type": "stream",
     "text": [
      "(93, 97)\n"
     ]
    }
   ],
   "source": [
    "print(array.shape)"
   ]
  },
  {
   "cell_type": "code",
   "execution_count": 387,
   "metadata": {},
   "outputs": [],
   "source": [
    "def get_seat(x,y,array,mask):\n",
    "    if(mask[y][x] == 0):\n",
    "        return 0\n",
    "    count_adj = 0\n",
    "    for i in range(x-1,x+2):\n",
    "        for j in range(y-1,y+2):\n",
    "            if(i<0 or j<0 or i>=array.shape[1] or j>=array.shape[0] or (i==x and j==y)):\n",
    "                continue\n",
    "            count_adj += array[j][i]\n",
    "    if (array[y][x] == 0 and (count_adj == 0)):\n",
    "        return 1\n",
    "    if(array[y][x] == 1 and (count_adj>=4)):\n",
    "        return 0\n",
    "    return array[y][x]\n",
    "                \n",
    "                \n",
    "                \n",
    "    \n",
    "    "
   ]
  },
  {
   "cell_type": "code",
   "execution_count": 388,
   "metadata": {},
   "outputs": [],
   "source": [
    "old_array = np.ones_like(array)\n",
    "it = 0\n",
    "while not(np.equal(array,old_array).all()):\n",
    "    old_array = np.copy(array)\n",
    "    for i in range(array.shape[1]):\n",
    "        for j in range(array.shape[0]):\n",
    "            array[j][i] = get_seat(i,j,old_array,mask)"
   ]
  },
  {
   "cell_type": "code",
   "execution_count": 389,
   "metadata": {},
   "outputs": [
    {
     "name": "stdout",
     "output_type": "stream",
     "text": [
      "2319\n"
     ]
    }
   ],
   "source": [
    "print(np.sum(array))"
   ]
  },
  {
   "cell_type": "code",
   "execution_count": 390,
   "metadata": {},
   "outputs": [],
   "source": [
    "def get_seat_advanced(x,y,array,mask):\n",
    "    if(mask[y][x] == 0):\n",
    "        return 0\n",
    "    count_adj = 0\n",
    "    \n",
    "    #top\n",
    "    j=y-1\n",
    "    i=x\n",
    "    while(j>=0):\n",
    "        if(mask[j][i]==0):\n",
    "            j-=1\n",
    "            continue\n",
    "        if(array[j][i]==1):\n",
    "            count_adj+=1\n",
    "        break\n",
    "    # bot\n",
    "    j=y+1\n",
    "    i=x\n",
    "    while(j<array.shape[0]):\n",
    "        if(mask[j][i]==0):\n",
    "            j+=1\n",
    "            continue\n",
    "        if(array[j][i]==1):\n",
    "            count_adj+=1\n",
    "        break\n",
    "    #left\n",
    "    j=y\n",
    "    i=x-1\n",
    "    while(i>=0):\n",
    "        if(mask[j][i]==0):\n",
    "            i-=1\n",
    "            continue\n",
    "        if(array[j][i]==1):\n",
    "            count_adj+=1\n",
    "        break\n",
    "    #right\n",
    "    j=y\n",
    "    i=x+1\n",
    "    while(i<array.shape[1]):\n",
    "        if(mask[j][i]==0):\n",
    "            i+=1\n",
    "            continue\n",
    "        if(array[j][i]==1):\n",
    "            count_adj+=1\n",
    "        break\n",
    "    #top-left\n",
    "    j=y-1\n",
    "    i=x-1\n",
    "    while(i>=0 and j>=0):\n",
    "        if(mask[j][i]==0):\n",
    "            i-=1\n",
    "            j-=1\n",
    "            continue\n",
    "        if(array[j][i]==1):\n",
    "            count_adj+=1\n",
    "        break\n",
    "    #bottom-left\n",
    "    j=y+1\n",
    "    i=x-1\n",
    "    while(i>=0 and j<array.shape[0]):\n",
    "        if(mask[j][i]==0):\n",
    "            i-=1\n",
    "            j+=1\n",
    "            continue\n",
    "        if(array[j][i]==1):\n",
    "            count_adj+=1\n",
    "        break\n",
    "    #bottom-right\n",
    "    j=y+1\n",
    "    i=x+1\n",
    "    while(i<array.shape[1] and j<array.shape[0]):\n",
    "        if(mask[j][i]==0):\n",
    "            i+=1\n",
    "            j+=1\n",
    "            continue\n",
    "        if(array[j][i]==1):\n",
    "            count_adj+=1\n",
    "        break\n",
    "    #top-right\n",
    "    j=y-1\n",
    "    i=x+1\n",
    "    while(i<array.shape[1] and j>=0):\n",
    "        if(mask[j][i]==0):\n",
    "            i+=1\n",
    "            j-=1\n",
    "            continue\n",
    "        if(array[j][i]==1):\n",
    "            count_adj+=1\n",
    "        break\n",
    "\n",
    "\n",
    "\n",
    "    \n",
    "    #for i in range(x-1,x+2):\n",
    "    #    for j in range(y-1,y+2):\n",
    "    #        if(i<0 or j<0 or i>=array.shape[1] or j>=array.shape[0] or (i==x and j==y)):\n",
    "    #            continue\n",
    "    #        count_adj += array[j][i]\n",
    "    \n",
    "    if (array[y][x] == 0 and (count_adj == 0)):\n",
    "        return 1\n",
    "    if(array[y][x] == 1 and (count_adj>=5)):\n",
    "        return 0\n",
    "    return array[y][x]\n"
   ]
  },
  {
   "cell_type": "code",
   "execution_count": 393,
   "metadata": {},
   "outputs": [],
   "source": [
    "array_2 = np.reshape(raw,(93,-1))\n",
    "old_array = np.ones_like(array_2)\n",
    "it=0\n",
    "while not(np.equal(array_2,old_array).all()):\n",
    "    it+=1\n",
    "    old_array = np.copy(array_2)\n",
    "    for i in range(array_2.shape[1]):\n",
    "        for j in range(array_2.shape[0]):\n",
    "            array_2[j][i] = get_seat_advanced(i,j,old_array,mask)\n"
   ]
  },
  {
   "cell_type": "code",
   "execution_count": 394,
   "metadata": {},
   "outputs": [
    {
     "name": "stdout",
     "output_type": "stream",
     "text": [
      "2117\n"
     ]
    }
   ],
   "source": [
    "print(np.sum(array_2))"
   ]
  },
  {
   "cell_type": "code",
   "execution_count": null,
   "metadata": {},
   "outputs": [],
   "source": []
  },
  {
   "cell_type": "code",
   "execution_count": null,
   "metadata": {},
   "outputs": [],
   "source": []
  }
 ],
 "metadata": {
  "kernelspec": {
   "display_name": "Python 3",
   "language": "python",
   "name": "python3"
  },
  "language_info": {
   "codemirror_mode": {
    "name": "ipython",
    "version": 3
   },
   "file_extension": ".py",
   "mimetype": "text/x-python",
   "name": "python",
   "nbconvert_exporter": "python",
   "pygments_lexer": "ipython3",
   "version": "3.8.5"
  }
 },
 "nbformat": 4,
 "nbformat_minor": 4
}
