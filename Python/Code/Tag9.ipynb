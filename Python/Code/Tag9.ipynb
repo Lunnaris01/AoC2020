{
 "cells": [
  {
   "cell_type": "code",
   "execution_count": 56,
   "metadata": {},
   "outputs": [],
   "source": [
    "import numpy as np\n",
    "import pandas as pd\n",
    "data = np.array(pd.read_csv(\"../../res/input_9.txt\",header=None)).flatten()"
   ]
  },
  {
   "cell_type": "code",
   "execution_count": 57,
   "metadata": {},
   "outputs": [],
   "source": [
    "def is_valid(data,index):\n",
    "    for i in range(index-26,index):\n",
    "        for j in range(i+1,index):\n",
    "            if (data[i]+data[j] == data[index]):\n",
    "                return 1\n",
    "    return 0\n",
    "\n",
    "for it in range(24,len(data)):\n",
    "    if not is_valid(data,it):\n",
    "        result_1 = (data[it],it)\n",
    "        break\n",
    "    "
   ]
  },
  {
   "cell_type": "code",
   "execution_count": 58,
   "metadata": {},
   "outputs": [
    {
     "name": "stdout",
     "output_type": "stream",
     "text": [
      "(21806024, 511)\n"
     ]
    }
   ],
   "source": [
    "print(result_1)"
   ]
  },
  {
   "cell_type": "code",
   "execution_count": 63,
   "metadata": {},
   "outputs": [],
   "source": [
    "acc = 0\n",
    "bounds = (0,0)\n",
    "for i in range(result_1[1]):\n",
    "    acc = 0\n",
    "    for j in range(i,result_1[1]):\n",
    "        if (acc>=result_1[0]):\n",
    "            if(acc == result_1[0]):\n",
    "                bounds = (i,j)\n",
    "            break\n",
    "        acc+=data[j]"
   ]
  },
  {
   "cell_type": "code",
   "execution_count": 76,
   "metadata": {},
   "outputs": [],
   "source": [
    "contiguous_set = data[bounds[0]:bounds[1]]"
   ]
  },
  {
   "cell_type": "code",
   "execution_count": 77,
   "metadata": {},
   "outputs": [
    {
     "name": "stdout",
     "output_type": "stream",
     "text": [
      "900278 2085917 2986195\n"
     ]
    }
   ],
   "source": [
    "print(min(contiguous_set),max(contiguous_set),min(contiguous_set)+max(contiguous_set))"
   ]
  },
  {
   "cell_type": "code",
   "execution_count": null,
   "metadata": {},
   "outputs": [],
   "source": []
  }
 ],
 "metadata": {
  "kernelspec": {
   "display_name": "Python 3",
   "language": "python",
   "name": "python3"
  },
  "language_info": {
   "codemirror_mode": {
    "name": "ipython",
    "version": 3
   },
   "file_extension": ".py",
   "mimetype": "text/x-python",
   "name": "python",
   "nbconvert_exporter": "python",
   "pygments_lexer": "ipython3",
   "version": "3.8.5"
  }
 },
 "nbformat": 4,
 "nbformat_minor": 4
}
