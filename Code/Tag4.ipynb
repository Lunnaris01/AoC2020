{
 "cells": [
  {
   "cell_type": "code",
   "execution_count": 350,
   "metadata": {},
   "outputs": [
    {
     "name": "stdout",
     "output_type": "stream",
     "text": [
      "[['ecl:#eef340 eyr:2023 hcl:#c0946f pid:244684338 iyr:2020 cid:57 byr:1969 hgt:152cm']\n",
      " ['NEXTLINE']\n",
      " ['pid:303807545 cid:213 ecl:gry hcl:#fffffd']\n",
      " ...\n",
      " ['eyr:2021']\n",
      " ['hcl:#602927 iyr:2014']\n",
      " ['pid:274974402 hgt:183cm']]\n"
     ]
    }
   ],
   "source": [
    "import numpy as np\n",
    "import pandas as pd\n",
    "import re\n",
    "data = np.array(pd.read_csv(\"../res/input_4.txt\",header=None,skip_blank_lines = False,error_bad_lines=False).fillna(\"NEXTLINE\"))\n",
    "print(data)"
   ]
  },
  {
   "cell_type": "code",
   "execution_count": 388,
   "metadata": {},
   "outputs": [],
   "source": [
    "def isvalid_first(line):\n",
    "    req = ['ecl','pid','eyr','hcl','byr','iyr','hgt']\n",
    "    for r in req:\n",
    "        if r not in line:\n",
    "            return 0\n",
    "    return 1\n",
    "\n",
    "def isvalid_second(line):\n",
    "    eyecols = ['amb','blu','brn','gry','grn','hzl','oth']\n",
    "    fields = line.split(\" \")\n",
    "    for field in fields:\n",
    "        key,val = field.split(\":\")\n",
    "        if key == \"byr\":\n",
    "            if(int(val)<1920 or int(val)>2002):\n",
    "                return 0\n",
    "        if key == \"iyr\":\n",
    "            if(int(val)<2010 or int(val)>2020):\n",
    "                return 0\n",
    "        if key == \"eyr\":\n",
    "            if(int(val)<2020 or int(val)>2030):\n",
    "                return 0\n",
    "        if key == \"hgt\":\n",
    "            if not (re.search(\"cm|in\",val)):\n",
    "                return 0\n",
    "            if(re.search(\"cm$\",val)):\n",
    "                hgt = int(val[0:-2])\n",
    "                if (hgt<150 or hgt>193):\n",
    "                    return 0\n",
    "            if(re.search(\"in$\",val)):\n",
    "                hgt = int(val[0:-2])\n",
    "                if(hgt<59 or hgt>76):\n",
    "                    return 0\n",
    "            \n",
    "        if key == \"hcl\":\n",
    "            if not(re.search(\"^#[1234567890abcdef]{6}\",val)):\n",
    "                return 0\n",
    "        if key == \"ecl\":\n",
    "            if val not in eyecols:\n",
    "                return 0\n",
    "        if key == \"pid\":\n",
    "            if not(re.search(\"[0-9]{9}\",val) and len(val) == 9):\n",
    "                return 0            \n",
    "            \n",
    "    \n",
    "    return 1"
   ]
  },
  {
   "cell_type": "code",
   "execution_count": 396,
   "metadata": {},
   "outputs": [
    {
     "name": "stdout",
     "output_type": "stream",
     "text": [
      "Puzzle Results: Part 1: 206 and Part 2: 123\n"
     ]
    }
   ],
   "source": [
    "complete_line=''\n",
    "counter_1 = 0\n",
    "counter_2 = 0\n",
    "for line in data:\n",
    "    if(line[0] != \"NEXTLINE\"):\n",
    "        complete_line = complete_line + \" \" + line[0]\n",
    "    else:\n",
    "        complete_line = complete_line[1:]\n",
    "        if(isvalid_first(complete_line)):\n",
    "            counter_1+=1\n",
    "            counter_2+= isvalid_second(complete_line)\n",
    "        complete_line = ''\n",
    "complete_line = complete_line[1:]\n",
    "if(isvalid_first(complete_line)): # check last line too\n",
    "    counter_1+=1\n",
    "    counter_2+= isvalid_second(complete_line)\n",
    "print(\"Puzzle Results: Part 1: \" + str(counter_1) + \" and Part 2: \" + str(counter_2))"
   ]
  },
  {
   "cell_type": "code",
   "execution_count": null,
   "metadata": {},
   "outputs": [],
   "source": []
  },
  {
   "cell_type": "code",
   "execution_count": null,
   "metadata": {},
   "outputs": [],
   "source": []
  },
  {
   "cell_type": "code",
   "execution_count": null,
   "metadata": {},
   "outputs": [],
   "source": []
  },
  {
   "cell_type": "code",
   "execution_count": null,
   "metadata": {},
   "outputs": [],
   "source": []
  },
  {
   "cell_type": "code",
   "execution_count": null,
   "metadata": {},
   "outputs": [],
   "source": []
  }
 ],
 "metadata": {
  "kernelspec": {
   "display_name": "Python 3",
   "language": "python",
   "name": "python3"
  },
  "language_info": {
   "codemirror_mode": {
    "name": "ipython",
    "version": 3
   },
   "file_extension": ".py",
   "mimetype": "text/x-python",
   "name": "python",
   "nbconvert_exporter": "python",
   "pygments_lexer": "ipython3",
   "version": "3.8.5"
  }
 },
 "nbformat": 4,
 "nbformat_minor": 4
}
